{
 "cells": [
  {
   "cell_type": "markdown",
   "metadata": {},
   "source": [
    "<div style=\"text-align: center;\">\n",
    "    <span style=\"font-size: 36px; color: #f04db1;\">EDA and Results Discussion</span>\n",
    "</div>\n"
   ]
  },
  {
   "cell_type": "markdown",
   "metadata": {},
   "source": [
    "<span style=\"font-size: 24px; color: #59a6e6;\">Imports</span>\n"
   ]
  },
  {
   "cell_type": "code",
   "execution_count": 3,
   "metadata": {},
   "outputs": [],
   "source": [
    "import numpy as np\n",
    "import pandas as pd\n",
    "import matplotlib.pyplot as plt\n",
    "import seaborn as sns\n",
    "import src.utils as utils\n"
   ]
  },
  {
   "cell_type": "markdown",
   "metadata": {},
   "source": [
    "<span style=\"font-size: 24px; color: #59a6e6;\">Load your dataset</span>\n"
   ]
  },
  {
   "cell_type": "code",
   "execution_count": 4,
   "metadata": {},
   "outputs": [],
   "source": [
    "dataset_path = ''\n",
    "\n",
    "# Load your dataset\n",
    "# show samples of your dataset"
   ]
  },
  {
   "cell_type": "markdown",
   "metadata": {},
   "source": [
    "<span style=\"font-size: 24px; color: #59a6e6;\">Data Overview</span>\n"
   ]
  },
  {
   "cell_type": "code",
   "execution_count": 5,
   "metadata": {},
   "outputs": [
    {
     "name": "stdout",
     "output_type": "stream",
     "text": [
      "Data Dimensions:\n",
      "First few rows of the dataset:\n"
     ]
    }
   ],
   "source": [
    "# df.shape if csv. image.shape and how many images if the dataset is images\n",
    "\n",
    "print(\"Data Dimensions:\")\n",
    "print(\"First few rows of the dataset:\")\n",
    "# df.info() if the dataset is in cvs format"
   ]
  },
  {
   "cell_type": "markdown",
   "metadata": {},
   "source": [
    "<span style=\"font-size: 24px; color: #59a6e6;\">Summary Statistics</span>\n"
   ]
  },
  {
   "cell_type": "code",
   "execution_count": null,
   "metadata": {},
   "outputs": [],
   "source": [
    "# 59a6e6"
   ]
  },
  {
   "cell_type": "markdown",
   "metadata": {},
   "source": [
    "<span style=\"font-size: 24px; color: #59a6e6;\">Check for Missing Values</span>\n"
   ]
  },
  {
   "cell_type": "markdown",
   "metadata": {},
   "source": []
  },
  {
   "cell_type": "code",
   "execution_count": 7,
   "metadata": {},
   "outputs": [],
   "source": [
    "# assuming it is a csv: print column types\n",
    "# utils.print_column_types()"
   ]
  },
  {
   "cell_type": "markdown",
   "metadata": {},
   "source": [
    "<span style=\"font-size: 24px; color: #59a6e6\">Pre-processing</span>\n",
    "\n",
    "<!-- drop -->\n",
    "<!-- remove nan -->\n",
    "<!-- create additionalfeatures -->\n"
   ]
  },
  {
   "cell_type": "code",
   "execution_count": null,
   "metadata": {},
   "outputs": [],
   "source": []
  },
  {
   "cell_type": "code",
   "execution_count": null,
   "metadata": {},
   "outputs": [],
   "source": []
  },
  {
   "cell_type": "markdown",
   "metadata": {},
   "source": [
    "<span style=\"font-size: 24px; color: #59a6e6\">Plots</span>\n",
    "\n",
    "<!-- what will you plot? -->\n",
    "<!-- target and features -->\n",
    "<!-- if images plot sample of images corresponding to each class -->\n"
   ]
  },
  {
   "cell_type": "markdown",
   "metadata": {},
   "source": []
  },
  {
   "cell_type": "markdown",
   "metadata": {},
   "source": [
    "<span style=\"font-size: 24px; color: #59a6e6\">Correlation between features</span>\n"
   ]
  },
  {
   "cell_type": "markdown",
   "metadata": {},
   "source": [
    "<span style=\"font-size: 24px; color: #59a6e6\">Plots for target distribution</span>\n",
    "\n",
    "<!-- target histogram -->\n",
    "<!-- or target count same thing -->\n"
   ]
  },
  {
   "cell_type": "markdown",
   "metadata": {},
   "source": [
    "<span style=\"font-size: 24px; color: #59a6e6\">Model eval and discussion</span>\n"
   ]
  },
  {
   "cell_type": "markdown",
   "metadata": {},
   "source": [
    "<span style=\"font-size: 24px; color: #59a6e6\">Results figure</span>\n"
   ]
  },
  {
   "cell_type": "markdown",
   "metadata": {},
   "source": [
    "<span style=\"font-size: 24px; color: #59a6e6\">Inference</span>\n"
   ]
  },
  {
   "cell_type": "markdown",
   "metadata": {},
   "source": [
    "<span style=\"font-size: 24px; color: #59a6e6\">Inference with missing features</span>\n"
   ]
  },
  {
   "cell_type": "markdown",
   "metadata": {},
   "source": [
    "Performance Metrics Evaluation:\n",
    "\n",
    "Interpretation of Metrics:\n",
    "\n",
    "Model Evaluation:\n",
    "\n",
    "Comparison with Baseline and Other Models:\n",
    "\n",
    "Potential Improvements:\n",
    "\n",
    "Limitations and Future Directions:\n",
    "\n",
    "Conclusion\n",
    "\n",
    "add kfold corssvalidation\n",
    "\n",
    "grid search for hyperparams\n"
   ]
  },
  {
   "cell_type": "markdown",
   "metadata": {},
   "source": []
  }
 ],
 "metadata": {
  "kernelspec": {
   "display_name": "Python 3 (ipykernel)",
   "language": "python",
   "name": "python3"
  },
  "language_info": {
   "codemirror_mode": {
    "name": "ipython",
    "version": 3
   },
   "file_extension": ".py",
   "mimetype": "text/x-python",
   "name": "python",
   "nbconvert_exporter": "python",
   "pygments_lexer": "ipython3",
   "version": "3.9.18"
  }
 },
 "nbformat": 4,
 "nbformat_minor": 2
}
